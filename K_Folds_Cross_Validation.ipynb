{
  "nbformat": 4,
  "nbformat_minor": 0,
  "metadata": {
    "colab": {
      "provenance": [],
      "authorship_tag": "ABX9TyMRw7xMJIw0rMwWs6E1H7NA",
      "include_colab_link": true
    },
    "kernelspec": {
      "name": "python3",
      "display_name": "Python 3"
    },
    "language_info": {
      "name": "python"
    }
  },
  "cells": [
    {
      "cell_type": "markdown",
      "metadata": {
        "id": "view-in-github",
        "colab_type": "text"
      },
      "source": [
        "<a href=\"https://colab.research.google.com/github/melliaafs/Machine-Learning-1/blob/main/K_Folds_Cross_Validation.ipynb\" target=\"_parent\"><img src=\"https://colab.research.google.com/assets/colab-badge.svg\" alt=\"Open In Colab\"/></a>"
      ]
    },
    {
      "cell_type": "code",
      "execution_count": null,
      "metadata": {
        "id": "jURX_VZwIqeb"
      },
      "outputs": [],
      "source": [
        "#import library yang dibutuhkan\n",
        "\n",
        "import pandas as pd\n",
        "\n",
        "#mendefinisikan link dataset\n",
        "\n",
        "path = \"http://archive.ics.uci.edu/ml/machine-learning-databases/iris/iris.data\"\n",
        "\n",
        "#mendefinisikan list berisi kolom kolom data set\n",
        "\n",
        "names = ['sepal-1', 'sepal-w','peta;-1', 'petal-w', 'class' ]\n",
        "\n",
        "data = pd.read_csv(path, names=names)"
      ]
    },
    {
      "cell_type": "code",
      "source": [
        "#menampilkan 10 data teratas\n",
        "\n",
        "data.head(10)"
      ],
      "metadata": {
        "colab": {
          "base_uri": "https://localhost:8080/",
          "height": 363
        },
        "id": "aFnhcY8CMVi3",
        "outputId": "2678ee2a-fac0-4e63-9150-21b9bb51c6a4"
      },
      "execution_count": null,
      "outputs": [
        {
          "output_type": "execute_result",
          "data": {
            "text/plain": [
              "   sepal-1  sepal-w  peta;-1  petal-w        class\n",
              "0      5.1      3.5      1.4      0.2  Iris-setosa\n",
              "1      4.9      3.0      1.4      0.2  Iris-setosa\n",
              "2      4.7      3.2      1.3      0.2  Iris-setosa\n",
              "3      4.6      3.1      1.5      0.2  Iris-setosa\n",
              "4      5.0      3.6      1.4      0.2  Iris-setosa\n",
              "5      5.4      3.9      1.7      0.4  Iris-setosa\n",
              "6      4.6      3.4      1.4      0.3  Iris-setosa\n",
              "7      5.0      3.4      1.5      0.2  Iris-setosa\n",
              "8      4.4      2.9      1.4      0.2  Iris-setosa\n",
              "9      4.9      3.1      1.5      0.1  Iris-setosa"
            ],
            "text/html": [
              "\n",
              "  <div id=\"df-15b18518-23d4-4def-ae41-92d4a79d925c\">\n",
              "    <div class=\"colab-df-container\">\n",
              "      <div>\n",
              "<style scoped>\n",
              "    .dataframe tbody tr th:only-of-type {\n",
              "        vertical-align: middle;\n",
              "    }\n",
              "\n",
              "    .dataframe tbody tr th {\n",
              "        vertical-align: top;\n",
              "    }\n",
              "\n",
              "    .dataframe thead th {\n",
              "        text-align: right;\n",
              "    }\n",
              "</style>\n",
              "<table border=\"1\" class=\"dataframe\">\n",
              "  <thead>\n",
              "    <tr style=\"text-align: right;\">\n",
              "      <th></th>\n",
              "      <th>sepal-1</th>\n",
              "      <th>sepal-w</th>\n",
              "      <th>peta;-1</th>\n",
              "      <th>petal-w</th>\n",
              "      <th>class</th>\n",
              "    </tr>\n",
              "  </thead>\n",
              "  <tbody>\n",
              "    <tr>\n",
              "      <th>0</th>\n",
              "      <td>5.1</td>\n",
              "      <td>3.5</td>\n",
              "      <td>1.4</td>\n",
              "      <td>0.2</td>\n",
              "      <td>Iris-setosa</td>\n",
              "    </tr>\n",
              "    <tr>\n",
              "      <th>1</th>\n",
              "      <td>4.9</td>\n",
              "      <td>3.0</td>\n",
              "      <td>1.4</td>\n",
              "      <td>0.2</td>\n",
              "      <td>Iris-setosa</td>\n",
              "    </tr>\n",
              "    <tr>\n",
              "      <th>2</th>\n",
              "      <td>4.7</td>\n",
              "      <td>3.2</td>\n",
              "      <td>1.3</td>\n",
              "      <td>0.2</td>\n",
              "      <td>Iris-setosa</td>\n",
              "    </tr>\n",
              "    <tr>\n",
              "      <th>3</th>\n",
              "      <td>4.6</td>\n",
              "      <td>3.1</td>\n",
              "      <td>1.5</td>\n",
              "      <td>0.2</td>\n",
              "      <td>Iris-setosa</td>\n",
              "    </tr>\n",
              "    <tr>\n",
              "      <th>4</th>\n",
              "      <td>5.0</td>\n",
              "      <td>3.6</td>\n",
              "      <td>1.4</td>\n",
              "      <td>0.2</td>\n",
              "      <td>Iris-setosa</td>\n",
              "    </tr>\n",
              "    <tr>\n",
              "      <th>5</th>\n",
              "      <td>5.4</td>\n",
              "      <td>3.9</td>\n",
              "      <td>1.7</td>\n",
              "      <td>0.4</td>\n",
              "      <td>Iris-setosa</td>\n",
              "    </tr>\n",
              "    <tr>\n",
              "      <th>6</th>\n",
              "      <td>4.6</td>\n",
              "      <td>3.4</td>\n",
              "      <td>1.4</td>\n",
              "      <td>0.3</td>\n",
              "      <td>Iris-setosa</td>\n",
              "    </tr>\n",
              "    <tr>\n",
              "      <th>7</th>\n",
              "      <td>5.0</td>\n",
              "      <td>3.4</td>\n",
              "      <td>1.5</td>\n",
              "      <td>0.2</td>\n",
              "      <td>Iris-setosa</td>\n",
              "    </tr>\n",
              "    <tr>\n",
              "      <th>8</th>\n",
              "      <td>4.4</td>\n",
              "      <td>2.9</td>\n",
              "      <td>1.4</td>\n",
              "      <td>0.2</td>\n",
              "      <td>Iris-setosa</td>\n",
              "    </tr>\n",
              "    <tr>\n",
              "      <th>9</th>\n",
              "      <td>4.9</td>\n",
              "      <td>3.1</td>\n",
              "      <td>1.5</td>\n",
              "      <td>0.1</td>\n",
              "      <td>Iris-setosa</td>\n",
              "    </tr>\n",
              "  </tbody>\n",
              "</table>\n",
              "</div>\n",
              "      <button class=\"colab-df-convert\" onclick=\"convertToInteractive('df-15b18518-23d4-4def-ae41-92d4a79d925c')\"\n",
              "              title=\"Convert this dataframe to an interactive table.\"\n",
              "              style=\"display:none;\">\n",
              "        \n",
              "  <svg xmlns=\"http://www.w3.org/2000/svg\" height=\"24px\"viewBox=\"0 0 24 24\"\n",
              "       width=\"24px\">\n",
              "    <path d=\"M0 0h24v24H0V0z\" fill=\"none\"/>\n",
              "    <path d=\"M18.56 5.44l.94 2.06.94-2.06 2.06-.94-2.06-.94-.94-2.06-.94 2.06-2.06.94zm-11 1L8.5 8.5l.94-2.06 2.06-.94-2.06-.94L8.5 2.5l-.94 2.06-2.06.94zm10 10l.94 2.06.94-2.06 2.06-.94-2.06-.94-.94-2.06-.94 2.06-2.06.94z\"/><path d=\"M17.41 7.96l-1.37-1.37c-.4-.4-.92-.59-1.43-.59-.52 0-1.04.2-1.43.59L10.3 9.45l-7.72 7.72c-.78.78-.78 2.05 0 2.83L4 21.41c.39.39.9.59 1.41.59.51 0 1.02-.2 1.41-.59l7.78-7.78 2.81-2.81c.8-.78.8-2.07 0-2.86zM5.41 20L4 18.59l7.72-7.72 1.47 1.35L5.41 20z\"/>\n",
              "  </svg>\n",
              "      </button>\n",
              "      \n",
              "  <style>\n",
              "    .colab-df-container {\n",
              "      display:flex;\n",
              "      flex-wrap:wrap;\n",
              "      gap: 12px;\n",
              "    }\n",
              "\n",
              "    .colab-df-convert {\n",
              "      background-color: #E8F0FE;\n",
              "      border: none;\n",
              "      border-radius: 50%;\n",
              "      cursor: pointer;\n",
              "      display: none;\n",
              "      fill: #1967D2;\n",
              "      height: 32px;\n",
              "      padding: 0 0 0 0;\n",
              "      width: 32px;\n",
              "    }\n",
              "\n",
              "    .colab-df-convert:hover {\n",
              "      background-color: #E2EBFA;\n",
              "      box-shadow: 0px 1px 2px rgba(60, 64, 67, 0.3), 0px 1px 3px 1px rgba(60, 64, 67, 0.15);\n",
              "      fill: #174EA6;\n",
              "    }\n",
              "\n",
              "    [theme=dark] .colab-df-convert {\n",
              "      background-color: #3B4455;\n",
              "      fill: #D2E3FC;\n",
              "    }\n",
              "\n",
              "    [theme=dark] .colab-df-convert:hover {\n",
              "      background-color: #434B5C;\n",
              "      box-shadow: 0px 1px 3px 1px rgba(0, 0, 0, 0.15);\n",
              "      filter: drop-shadow(0px 1px 2px rgba(0, 0, 0, 0.3));\n",
              "      fill: #FFFFFF;\n",
              "    }\n",
              "  </style>\n",
              "\n",
              "      <script>\n",
              "        const buttonEl =\n",
              "          document.querySelector('#df-15b18518-23d4-4def-ae41-92d4a79d925c button.colab-df-convert');\n",
              "        buttonEl.style.display =\n",
              "          google.colab.kernel.accessAllowed ? 'block' : 'none';\n",
              "\n",
              "        async function convertToInteractive(key) {\n",
              "          const element = document.querySelector('#df-15b18518-23d4-4def-ae41-92d4a79d925c');\n",
              "          const dataTable =\n",
              "            await google.colab.kernel.invokeFunction('convertToInteractive',\n",
              "                                                     [key], {});\n",
              "          if (!dataTable) return;\n",
              "\n",
              "          const docLinkHtml = 'Like what you see? Visit the ' +\n",
              "            '<a target=\"_blank\" href=https://colab.research.google.com/notebooks/data_table.ipynb>data table notebook</a>'\n",
              "            + ' to learn more about interactive tables.';\n",
              "          element.innerHTML = '';\n",
              "          dataTable['output_type'] = 'display_data';\n",
              "          await google.colab.output.renderOutput(dataTable, element);\n",
              "          const docLink = document.createElement('div');\n",
              "          docLink.innerHTML = docLinkHtml;\n",
              "          element.appendChild(docLink);\n",
              "        }\n",
              "      </script>\n",
              "    </div>\n",
              "  </div>\n",
              "  "
            ]
          },
          "metadata": {},
          "execution_count": 2
        }
      ]
    },
    {
      "cell_type": "code",
      "source": [
        "#menampilkan dimensi dataset\n",
        "\n",
        "data.shape"
      ],
      "metadata": {
        "colab": {
          "base_uri": "https://localhost:8080/"
        },
        "id": "IINo9v1LNVTo",
        "outputId": "201ef886-2265-47ab-b70a-264b92e3dace"
      },
      "execution_count": null,
      "outputs": [
        {
          "output_type": "execute_result",
          "data": {
            "text/plain": [
              "(150, 5)"
            ]
          },
          "metadata": {},
          "execution_count": 4
        }
      ]
    },
    {
      "cell_type": "code",
      "source": [
        "#import library yang dibutuhkan\n",
        "\n",
        "from sklearn import model_selection\n",
        "\n",
        "#menyimpan nlai-nilai dala dataset ke dalam variabel array\n",
        "\n",
        "array = data.values\n",
        "\n",
        "#menyimpan data fitur-fitur pada dataset ke  dalam variabel X\n",
        "\n",
        "X =  array[:, 0:4]\n",
        "\n",
        "#menyimpan data label dataset ke dalam variabel Y\n",
        "\n",
        "Y = array[:,4]\n",
        "\n",
        "#mendefinisikan ukuran testing data dan seed untuk random state\n",
        "\n",
        "test_size = 0.20\n",
        "seed = 7\n",
        "\n",
        "#memisahkan data menjadi training (dan validation) set dan testing set\n",
        "X_train, X_test, Y_train, Y_test = model_selection.train_test_split(X, Y, test_size = test_size, random_state= seed)\n"
      ],
      "metadata": {
        "id": "vcwdz-xErRkK"
      },
      "execution_count": null,
      "outputs": []
    },
    {
      "cell_type": "code",
      "source": [
        "\n",
        "#import library berisi algoritma klasifikasi yang akan digunakan\n",
        "\n",
        "from sklearn.tree import DecisionTreeClassifier\n",
        "from sklearn.ensemble import RandomForestClassifier\n",
        "from sklearn.svm import SVC\n",
        "\n",
        "#mendefinisikan array kosong\n",
        "models=[]\n",
        "\n",
        "#membuat array asosiatif berisi nama algoritma dan algortima klasifikasinya\n",
        "models.append(('Decision Tree', DecisionTreeClassifier() ))\n",
        "models.append(('Random Forest', RandomForestClassifier()))\n",
        "models.append(('SVM', SVC()))\n",
        "\n",
        "\n",
        "\n"
      ],
      "metadata": {
        "id": "AmHZI_TAuHSB"
      },
      "execution_count": null,
      "outputs": []
    },
    {
      "cell_type": "code",
      "source": [
        "#mendefinisikan seed dan scoring yang digunakan untuk menguji model dengan validation data\n",
        "\n",
        "seed = 7\n",
        "scoring= 'accuracy'\n"
      ],
      "metadata": {
        "id": "_qURSCl_yNf1"
      },
      "execution_count": null,
      "outputs": []
    },
    {
      "cell_type": "code",
      "source": [
        "results = []\n",
        "names = []\n",
        "\n",
        "#membagi data menjadi  training dan validation set menggunakan k-fold cross\n",
        "#validation dengan k = 10\n",
        "for name, model in models:\n",
        "  kfold = model_selection.KFold(n_splits = 10, random_state = seed, shuffle = True)\n",
        "  #menguji akurasi dari masing-masing model menggunakan validation data\n",
        "  cv_results = model_selection.cross_val_score(model, X_train, Y_train, cv = kfold, scoring = scoring)\n",
        "  results.append (cv_results)\n",
        "  msg = \"%s : %f (%f)\" %(name, cv_results.mean(), cv_results.std())\n",
        "  print(msg)"
      ],
      "metadata": {
        "colab": {
          "base_uri": "https://localhost:8080/"
        },
        "id": "7VYSe0Yuy3QQ",
        "outputId": "888edc5c-b387-49b3-df5b-09187f2d27ad"
      },
      "execution_count": null,
      "outputs": [
        {
          "output_type": "stream",
          "name": "stdout",
          "text": [
            "Decision Tree : 0.958333 (0.076830)\n",
            "Random Forest : 0.966667 (0.040825)\n",
            "SVM : 0.983333 (0.033333)\n"
          ]
        }
      ]
    },
    {
      "cell_type": "markdown",
      "source": [
        "output di atas menujukkan bahwa algoritma SVM menghasilkan akurasi terbaik dari pengujian akurasi model klasifikasi(menggunakan validation set) yang dihasilkan dari proses pelatihan data(menggunakan training set)\n"
      ],
      "metadata": {
        "id": "e_Sm7vldLkhx"
      }
    },
    {
      "cell_type": "code",
      "source": [
        "#import library untuk mengevaluasi algoritma\n",
        "from sklearn.metrics import  accuracy_score, confusion_matrix, classification_report\n",
        "\n",
        "\n",
        "#mendefinisikan algoritma SVM\n",
        "svm = SVC()\n",
        "\n",
        "#melatih data training dengan algoritma SVM\n",
        "svm.fit(X_train, Y_train)\n",
        "\n",
        "#menguji proses yang dihasilkan dari proses pelatihan data dengan testing data\n",
        "predictions = svm.predict(X_test)\n",
        "\n",
        "print('akurasi pada testing data :', accuracy_score(Y_test, predictions))\n",
        "print('confusion matrix :', confusion_matrix(Y_test, predictions) )\n",
        "print('Classification Report:', classification_report(Y_test, predictions))\n",
        "\n",
        "\n"
      ],
      "metadata": {
        "colab": {
          "base_uri": "https://localhost:8080/"
        },
        "id": "gqUKPHQdM5mZ",
        "outputId": "f14a41d8-a6fb-4877-cc09-df74bf9c32d4"
      },
      "execution_count": null,
      "outputs": [
        {
          "output_type": "stream",
          "name": "stdout",
          "text": [
            "akurasi pada testing data : 0.8666666666666667\n",
            "confusion matrix : [[ 7  0  0]\n",
            " [ 0 10  2]\n",
            " [ 0  2  9]]\n",
            "Classification Report:                  precision    recall  f1-score   support\n",
            "\n",
            "    Iris-setosa       1.00      1.00      1.00         7\n",
            "Iris-versicolor       0.83      0.83      0.83        12\n",
            " Iris-virginica       0.82      0.82      0.82        11\n",
            "\n",
            "       accuracy                           0.87        30\n",
            "      macro avg       0.88      0.88      0.88        30\n",
            "   weighted avg       0.87      0.87      0.87        30\n",
            "\n"
          ]
        }
      ]
    }
  ]
}