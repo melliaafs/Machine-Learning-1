{
  "nbformat": 4,
  "nbformat_minor": 0,
  "metadata": {
    "colab": {
      "provenance": [],
      "authorship_tag": "ABX9TyPwCQMujdDcjm7AHSfh+xQu",
      "include_colab_link": true
    },
    "kernelspec": {
      "name": "python3",
      "display_name": "Python 3"
    },
    "language_info": {
      "name": "python"
    }
  },
  "cells": [
    {
      "cell_type": "markdown",
      "metadata": {
        "id": "view-in-github",
        "colab_type": "text"
      },
      "source": [
        "<a href=\"https://colab.research.google.com/github/melliaafs/Machine-Learning-1/blob/main/Algoritma_Evaluation_using_datasets_ballonns.ipynb\" target=\"_parent\"><img src=\"https://colab.research.google.com/assets/colab-badge.svg\" alt=\"Open In Colab\"/></a>"
      ]
    },
    {
      "cell_type": "code",
      "execution_count": 13,
      "metadata": {
        "id": "jURX_VZwIqeb"
      },
      "outputs": [],
      "source": [
        "\n",
        "#import library yang dibutuhkan\n",
        "\n",
        "import pandas as pd\n",
        "\n",
        "#mendefinisikan link dataset\n",
        "\n",
        "path = \"https://archive.ics.uci.edu/ml/machine-learning-databases/balloons/adult+stretch.data\"\n",
        "\n",
        "#mendefinisikan list berisi kolom kolom data set\n",
        "\n",
        "names = ['sepal-1', 'sepal-w','peta;-1', 'petal-w', 'class' ]\n",
        "\n",
        "data = pd.read_csv(path, names=names)"
      ]
    },
    {
      "cell_type": "code",
      "source": [
        "#menampilkan 10 data teratas\n",
        "\n",
        "data.head(10)"
      ],
      "metadata": {
        "colab": {
          "base_uri": "https://localhost:8080/",
          "height": 363
        },
        "id": "aFnhcY8CMVi3",
        "outputId": "1f3b391d-273a-4c48-cced-07e053103d41"
      },
      "execution_count": 14,
      "outputs": [
        {
          "output_type": "execute_result",
          "data": {
            "text/plain": [
              "  sepal-1 sepal-w  peta;-1 petal-w class\n",
              "0  YELLOW   SMALL  STRETCH   ADULT     T\n",
              "1  YELLOW   SMALL  STRETCH   ADULT     T\n",
              "2  YELLOW   SMALL  STRETCH   CHILD     F\n",
              "3  YELLOW   SMALL      DIP   ADULT     F\n",
              "4  YELLOW   SMALL      DIP   CHILD     F\n",
              "5  YELLOW   LARGE  STRETCH   ADULT     T\n",
              "6  YELLOW   LARGE  STRETCH   ADULT     T\n",
              "7  YELLOW   LARGE  STRETCH   CHILD     F\n",
              "8  YELLOW   LARGE      DIP   ADULT     F\n",
              "9  YELLOW   LARGE      DIP   CHILD     F"
            ],
            "text/html": [
              "\n",
              "  <div id=\"df-6834c100-49d0-4283-bf1e-91937f3bcc35\">\n",
              "    <div class=\"colab-df-container\">\n",
              "      <div>\n",
              "<style scoped>\n",
              "    .dataframe tbody tr th:only-of-type {\n",
              "        vertical-align: middle;\n",
              "    }\n",
              "\n",
              "    .dataframe tbody tr th {\n",
              "        vertical-align: top;\n",
              "    }\n",
              "\n",
              "    .dataframe thead th {\n",
              "        text-align: right;\n",
              "    }\n",
              "</style>\n",
              "<table border=\"1\" class=\"dataframe\">\n",
              "  <thead>\n",
              "    <tr style=\"text-align: right;\">\n",
              "      <th></th>\n",
              "      <th>sepal-1</th>\n",
              "      <th>sepal-w</th>\n",
              "      <th>peta;-1</th>\n",
              "      <th>petal-w</th>\n",
              "      <th>class</th>\n",
              "    </tr>\n",
              "  </thead>\n",
              "  <tbody>\n",
              "    <tr>\n",
              "      <th>0</th>\n",
              "      <td>YELLOW</td>\n",
              "      <td>SMALL</td>\n",
              "      <td>STRETCH</td>\n",
              "      <td>ADULT</td>\n",
              "      <td>T</td>\n",
              "    </tr>\n",
              "    <tr>\n",
              "      <th>1</th>\n",
              "      <td>YELLOW</td>\n",
              "      <td>SMALL</td>\n",
              "      <td>STRETCH</td>\n",
              "      <td>ADULT</td>\n",
              "      <td>T</td>\n",
              "    </tr>\n",
              "    <tr>\n",
              "      <th>2</th>\n",
              "      <td>YELLOW</td>\n",
              "      <td>SMALL</td>\n",
              "      <td>STRETCH</td>\n",
              "      <td>CHILD</td>\n",
              "      <td>F</td>\n",
              "    </tr>\n",
              "    <tr>\n",
              "      <th>3</th>\n",
              "      <td>YELLOW</td>\n",
              "      <td>SMALL</td>\n",
              "      <td>DIP</td>\n",
              "      <td>ADULT</td>\n",
              "      <td>F</td>\n",
              "    </tr>\n",
              "    <tr>\n",
              "      <th>4</th>\n",
              "      <td>YELLOW</td>\n",
              "      <td>SMALL</td>\n",
              "      <td>DIP</td>\n",
              "      <td>CHILD</td>\n",
              "      <td>F</td>\n",
              "    </tr>\n",
              "    <tr>\n",
              "      <th>5</th>\n",
              "      <td>YELLOW</td>\n",
              "      <td>LARGE</td>\n",
              "      <td>STRETCH</td>\n",
              "      <td>ADULT</td>\n",
              "      <td>T</td>\n",
              "    </tr>\n",
              "    <tr>\n",
              "      <th>6</th>\n",
              "      <td>YELLOW</td>\n",
              "      <td>LARGE</td>\n",
              "      <td>STRETCH</td>\n",
              "      <td>ADULT</td>\n",
              "      <td>T</td>\n",
              "    </tr>\n",
              "    <tr>\n",
              "      <th>7</th>\n",
              "      <td>YELLOW</td>\n",
              "      <td>LARGE</td>\n",
              "      <td>STRETCH</td>\n",
              "      <td>CHILD</td>\n",
              "      <td>F</td>\n",
              "    </tr>\n",
              "    <tr>\n",
              "      <th>8</th>\n",
              "      <td>YELLOW</td>\n",
              "      <td>LARGE</td>\n",
              "      <td>DIP</td>\n",
              "      <td>ADULT</td>\n",
              "      <td>F</td>\n",
              "    </tr>\n",
              "    <tr>\n",
              "      <th>9</th>\n",
              "      <td>YELLOW</td>\n",
              "      <td>LARGE</td>\n",
              "      <td>DIP</td>\n",
              "      <td>CHILD</td>\n",
              "      <td>F</td>\n",
              "    </tr>\n",
              "  </tbody>\n",
              "</table>\n",
              "</div>\n",
              "      <button class=\"colab-df-convert\" onclick=\"convertToInteractive('df-6834c100-49d0-4283-bf1e-91937f3bcc35')\"\n",
              "              title=\"Convert this dataframe to an interactive table.\"\n",
              "              style=\"display:none;\">\n",
              "        \n",
              "  <svg xmlns=\"http://www.w3.org/2000/svg\" height=\"24px\"viewBox=\"0 0 24 24\"\n",
              "       width=\"24px\">\n",
              "    <path d=\"M0 0h24v24H0V0z\" fill=\"none\"/>\n",
              "    <path d=\"M18.56 5.44l.94 2.06.94-2.06 2.06-.94-2.06-.94-.94-2.06-.94 2.06-2.06.94zm-11 1L8.5 8.5l.94-2.06 2.06-.94-2.06-.94L8.5 2.5l-.94 2.06-2.06.94zm10 10l.94 2.06.94-2.06 2.06-.94-2.06-.94-.94-2.06-.94 2.06-2.06.94z\"/><path d=\"M17.41 7.96l-1.37-1.37c-.4-.4-.92-.59-1.43-.59-.52 0-1.04.2-1.43.59L10.3 9.45l-7.72 7.72c-.78.78-.78 2.05 0 2.83L4 21.41c.39.39.9.59 1.41.59.51 0 1.02-.2 1.41-.59l7.78-7.78 2.81-2.81c.8-.78.8-2.07 0-2.86zM5.41 20L4 18.59l7.72-7.72 1.47 1.35L5.41 20z\"/>\n",
              "  </svg>\n",
              "      </button>\n",
              "      \n",
              "  <style>\n",
              "    .colab-df-container {\n",
              "      display:flex;\n",
              "      flex-wrap:wrap;\n",
              "      gap: 12px;\n",
              "    }\n",
              "\n",
              "    .colab-df-convert {\n",
              "      background-color: #E8F0FE;\n",
              "      border: none;\n",
              "      border-radius: 50%;\n",
              "      cursor: pointer;\n",
              "      display: none;\n",
              "      fill: #1967D2;\n",
              "      height: 32px;\n",
              "      padding: 0 0 0 0;\n",
              "      width: 32px;\n",
              "    }\n",
              "\n",
              "    .colab-df-convert:hover {\n",
              "      background-color: #E2EBFA;\n",
              "      box-shadow: 0px 1px 2px rgba(60, 64, 67, 0.3), 0px 1px 3px 1px rgba(60, 64, 67, 0.15);\n",
              "      fill: #174EA6;\n",
              "    }\n",
              "\n",
              "    [theme=dark] .colab-df-convert {\n",
              "      background-color: #3B4455;\n",
              "      fill: #D2E3FC;\n",
              "    }\n",
              "\n",
              "    [theme=dark] .colab-df-convert:hover {\n",
              "      background-color: #434B5C;\n",
              "      box-shadow: 0px 1px 3px 1px rgba(0, 0, 0, 0.15);\n",
              "      filter: drop-shadow(0px 1px 2px rgba(0, 0, 0, 0.3));\n",
              "      fill: #FFFFFF;\n",
              "    }\n",
              "  </style>\n",
              "\n",
              "      <script>\n",
              "        const buttonEl =\n",
              "          document.querySelector('#df-6834c100-49d0-4283-bf1e-91937f3bcc35 button.colab-df-convert');\n",
              "        buttonEl.style.display =\n",
              "          google.colab.kernel.accessAllowed ? 'block' : 'none';\n",
              "\n",
              "        async function convertToInteractive(key) {\n",
              "          const element = document.querySelector('#df-6834c100-49d0-4283-bf1e-91937f3bcc35');\n",
              "          const dataTable =\n",
              "            await google.colab.kernel.invokeFunction('convertToInteractive',\n",
              "                                                     [key], {});\n",
              "          if (!dataTable) return;\n",
              "\n",
              "          const docLinkHtml = 'Like what you see? Visit the ' +\n",
              "            '<a target=\"_blank\" href=https://colab.research.google.com/notebooks/data_table.ipynb>data table notebook</a>'\n",
              "            + ' to learn more about interactive tables.';\n",
              "          element.innerHTML = '';\n",
              "          dataTable['output_type'] = 'display_data';\n",
              "          await google.colab.output.renderOutput(dataTable, element);\n",
              "          const docLink = document.createElement('div');\n",
              "          docLink.innerHTML = docLinkHtml;\n",
              "          element.appendChild(docLink);\n",
              "        }\n",
              "      </script>\n",
              "    </div>\n",
              "  </div>\n",
              "  "
            ]
          },
          "metadata": {},
          "execution_count": 14
        }
      ]
    },
    {
      "cell_type": "code",
      "source": [
        "#menampilkan dimensi dataset\n",
        "\n",
        "data.shape"
      ],
      "metadata": {
        "colab": {
          "base_uri": "https://localhost:8080/"
        },
        "id": "IINo9v1LNVTo",
        "outputId": "aa682e76-6c50-4764-8f62-5e253e86e817"
      },
      "execution_count": 15,
      "outputs": [
        {
          "output_type": "execute_result",
          "data": {
            "text/plain": [
              "(20, 5)"
            ]
          },
          "metadata": {},
          "execution_count": 15
        }
      ]
    },
    {
      "cell_type": "code",
      "source": [
        "#import library yang dibutuhkan\n",
        "\n",
        "from sklearn import model_selection\n",
        "\n",
        "#menyimpan nlai-nilai dala dataset ke dalam variabel array\n",
        "\n",
        "array = data.values\n",
        "\n",
        "#menyimpan data fitur-fitur pada dataset ke  dalam variabel X\n",
        "\n",
        "X =  array[:, 0:4]\n",
        "\n",
        "#menyimpan data label dataset ke dalam variabel Y\n",
        "\n",
        "Y = array[:,4]\n",
        "\n",
        "#mendefinisikan ukuran testing data dan seed untuk random state\n",
        "\n",
        "test_size = 0.20\n",
        "seed = 7\n",
        "\n",
        "#memisahkan data menjadi training (dan validation) set dan testing set\n",
        "X_train, X_test, Y_train, Y_test = model_selection.train_test_split(X, Y, test_size = test_size, random_state= seed)\n"
      ],
      "metadata": {
        "id": "vcwdz-xErRkK"
      },
      "execution_count": 16,
      "outputs": []
    },
    {
      "cell_type": "code",
      "source": [
        "\n",
        "#import library berisi algoritma klasifikasi yang akan digunakan\n",
        "\n",
        "from sklearn.tree import DecisionTreeClassifier\n",
        "from sklearn.ensemble import RandomForestClassifier\n",
        "from sklearn.svm import SVC\n",
        "\n",
        "#mendefinisikan array kosong\n",
        "models=[]\n",
        "\n",
        "#membuat array asosiatif berisi nama algoritma dan algortima klasifikasinya\n",
        "models.append(('Decision Tree', DecisionTreeClassifier() ))\n",
        "models.append(('Random Forest', RandomForestClassifier()))\n",
        "models.append(('SVM', SVC()))\n",
        "\n",
        "\n",
        "\n"
      ],
      "metadata": {
        "id": "AmHZI_TAuHSB"
      },
      "execution_count": 17,
      "outputs": []
    },
    {
      "cell_type": "code",
      "source": [
        "#mendefinisikan seed dan scoring yang digunakan untuk menguji model dengan validation data\n",
        "\n",
        "seed = 7\n",
        "scoring= 'accuracy'\n"
      ],
      "metadata": {
        "id": "_qURSCl_yNf1"
      },
      "execution_count": 18,
      "outputs": []
    },
    {
      "cell_type": "code",
      "source": [
        "results = []\n",
        "names = []\n",
        "\n",
        "#membagi data menjadi  training dan validation set menggunakan k-fold cross\n",
        "#validation dengan k = 10\n",
        "for name, model in models:\n",
        "  kfold = model_selection.KFold(n_splits = 10, random_state = seed)\n",
        "  #menguji akurasi dari masing-masing model menggunakan validation data\n",
        "  cv_results = model_selection.cross_val_score(model, X_train, Y_train, cv = kfold, scoring = scoring)\n",
        "  results.append (cv_results)\n",
        "  names.append(name)\n",
        "  msg = \"%s : %f (%f)\" %(name, cv_results.mean(), cv_results.std())\n",
        "  print(msg)"
      ],
      "metadata": {
        "id": "7VYSe0Yuy3QQ"
      },
      "execution_count": 20,
      "outputs": []
    },
    {
      "cell_type": "markdown",
      "source": [
        "output di atas menujukkan bahwa algoritma SVM menghasilkan akurasi terbaik dari pengujian akurasi model klasifikasi(menggunakan validation set) yang dihasilkan dari proses pelatihan data(menggunakan training set)\n"
      ],
      "metadata": {
        "id": "e_Sm7vldLkhx"
      }
    },
    {
      "cell_type": "code",
      "source": [
        "#import library untuk mengevaluasi algoritma\n",
        "from sklearn.metrics import  accuracy_score, confusion_matrix, classification_report\n",
        "\n",
        "\n",
        "#mendefinisikan algoritma SVM\n",
        "svm = SVC()\n",
        "\n",
        "#melatih data training dengan algoritma SVM\n",
        "svm.fit(X_train, Y_train)\n",
        "\n",
        "#menguji proses yang dihasilkan dari proses pelatihan data dengan testing data\n",
        "predictions = svm.predict(X_test)\n",
        "\n",
        "print('akurasi pada testing data :', accuracy_score(Y_test, predictions))\n",
        "print('confusion matrix :', confusion_matrix(Y_test, predictions) )\n",
        "print('Classification Report:', classification_report(Y_test, predictions))\n",
        "\n",
        "\n"
      ],
      "metadata": {
        "id": "gqUKPHQdM5mZ"
      },
      "execution_count": null,
      "outputs": []
    }
  ]
}